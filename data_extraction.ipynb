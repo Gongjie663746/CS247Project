{
  "cells": [
    {
      "cell_type": "code",
      "execution_count": null,
      "metadata": {
        "colab": {
          "base_uri": "https://localhost:8080/"
        },
        "id": "uRbZ-z3IPGvQ",
        "outputId": "b01fb884-d560-40a8-e0ca-912cacfed563"
      },
      "outputs": [
        {
          "output_type": "stream",
          "name": "stdout",
          "text": [
            "Mounted at /content/mnt\n"
          ]
        }
      ],
      "source": [
        "from google.colab import drive\n",
        "drive.mount('/content/mnt')"
      ]
    },
    {
      "cell_type": "code",
      "execution_count": null,
      "metadata": {
        "id": "VR87dNPCUiHV"
      },
      "outputs": [],
      "source": [
        "import pandas as pd\n",
        "import numpy as np\n",
        "import re"
      ]
    },
    {
      "cell_type": "code",
      "execution_count": null,
      "metadata": {
        "id": "ucTERPy9bLZ5"
      },
      "outputs": [],
      "source": [
        "workspace = '/content/mnt/Shareddrives/247 Project/data/'\n",
        "target = \"2008-10\""
      ]
    },
    {
      "cell_type": "code",
      "execution_count": null,
      "metadata": {
        "colab": {
          "base_uri": "https://localhost:8080/"
        },
        "id": "gU5nk-M4QFFu",
        "outputId": "fd65991a-397d-47ef-8947-afaa22759ef2"
      },
      "outputs": [
        {
          "output_type": "stream",
          "name": "stdout",
          "text": [
            "10000\n",
            "20000\n",
            "30000\n",
            "40000\n",
            "50000\n",
            "60000\n",
            "70000\n",
            "80000\n",
            "90000\n",
            "100000\n",
            "110000\n",
            "120000\n",
            "130000\n",
            "140000\n",
            "150000\n",
            "160000\n",
            "170000\n",
            "180000\n",
            "190000\n",
            "200000\n",
            "210000\n",
            "220000\n",
            "230000\n",
            "240000\n",
            "250000\n",
            "260000\n",
            "270000\n",
            "280000\n",
            "290000\n",
            "300000\n",
            "310000\n",
            "320000\n",
            "330000\n",
            "340000\n",
            "350000\n",
            "360000\n",
            "370000\n",
            "380000\n"
          ]
        }
      ],
      "source": [
        "data = pd.DataFrame({\"P\":[], \"P_domain\": [], \"T\":[], \"Q\":[], \"L\":[], \"L_domain\":[]})\n",
        "current = {}\n",
        "count = 0\n",
        "domain_pattern = re.compile(r\".*//([^\\/]*)(/(.*)|$)\")\n",
        "\n",
        "with open(workspace + \"quotes_{}.txt\".format(target)) as f:\n",
        "  for line in f:\n",
        "    if line[0] == \"P\":\n",
        "      if len(current) != 0:\n",
        "        data = data.append(current, ignore_index=True)\n",
        "        current = {}\n",
        "        count += 1\n",
        "        if count % 10000 == 0:\n",
        "          data.to_pickle(workspace + \"intermediate_{}_raw.pkl\".format(target))\n",
        "          print(count)\n",
        "      current[\"P\"] = line[2:-1]\n",
        "      val = domain_pattern.match(line[2:-1])\n",
        "      current[\"P_domain\"] = val.group(1)\n",
        "    if line[0] == \"T\":\n",
        "      current[\"T\"] = line[2:-1]\n",
        "    if line[0] == \"Q\":\n",
        "      if \"Q\" not in current.keys():\n",
        "        current[\"Q\"] = line[2:-1]\n",
        "      else:\n",
        "        current[\"Q\"] += \" \"\n",
        "        current[\"Q\"] += line[2:-1]\n",
        "    if line[0] == \"L\":\n",
        "      if \"L\" not in current.keys():\n",
        "        current[\"L\"] = [line[2:-1]]\n",
        "        val = domain_pattern.match(line[2:-1])\n",
        "        if val is None:\n",
        "          print(line[2:-1])\n",
        "        current[\"L_domain\"] = [val.group(1)]\n",
        "      else:\n",
        "        current[\"L\"].append(line[2:-1])\n",
        "        val = domain_pattern.match(line[2:-1])\n",
        "        current[\"L_domain\"].append(val.group(1))\n",
        "    \n",
        "data = data.append(current, ignore_index=True)  \n",
        "data.to_pickle(workspace + \"{}_raw.pkl\".format(target))\n",
        "data"
      ]
    },
    {
      "cell_type": "code",
      "execution_count": null,
      "metadata": {
        "id": "15k6i8-nyob5"
      },
      "outputs": [],
      "source": [
        "data"
      ]
    }
  ],
  "metadata": {
    "colab": {
      "collapsed_sections": [],
      "name": "data_extraction.ipynb",
      "provenance": []
    },
    "kernelspec": {
      "display_name": "Python 3",
      "name": "python3"
    },
    "language_info": {
      "name": "python"
    }
  },
  "nbformat": 4,
  "nbformat_minor": 0
}