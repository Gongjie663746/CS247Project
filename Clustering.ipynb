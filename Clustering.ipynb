{
  "nbformat": 4,
  "nbformat_minor": 0,
  "metadata": {
    "colab": {
      "name": "Clustering.ipynb",
      "provenance": [],
      "collapsed_sections": []
    },
    "kernelspec": {
      "name": "python3",
      "display_name": "Python 3"
    },
    "language_info": {
      "name": "python"
    }
  },
  "cells": [
    {
      "cell_type": "code",
      "source": [
        "from google.colab import drive\n",
        "drive.mount('/content/mnt')"
      ],
      "metadata": {
        "colab": {
          "base_uri": "https://localhost:8080/"
        },
        "id": "JSOTkUUpC5Gf",
        "outputId": "6932fb08-8d0f-4269-b794-eae5b7869c93"
      },
      "execution_count": null,
      "outputs": [
        {
          "output_type": "stream",
          "name": "stdout",
          "text": [
            "Mounted at /content/mnt\n"
          ]
        }
      ]
    },
    {
      "cell_type": "code",
      "source": [
        "!pip install fasttext"
      ],
      "metadata": {
        "colab": {
          "base_uri": "https://localhost:8080/"
        },
        "id": "QJaUJxmkEDS9",
        "outputId": "e36c2247-0148-4dff-e4a3-82d923d780a2"
      },
      "execution_count": null,
      "outputs": [
        {
          "output_type": "stream",
          "name": "stdout",
          "text": [
            "Collecting fasttext\n",
            "  Downloading fasttext-0.9.2.tar.gz (68 kB)\n",
            "\u001b[?25l\r\u001b[K     |████▊                           | 10 kB 17.5 MB/s eta 0:00:01\r\u001b[K     |█████████▌                      | 20 kB 20.5 MB/s eta 0:00:01\r\u001b[K     |██████████████▎                 | 30 kB 23.3 MB/s eta 0:00:01\r\u001b[K     |███████████████████             | 40 kB 25.3 MB/s eta 0:00:01\r\u001b[K     |███████████████████████▉        | 51 kB 26.6 MB/s eta 0:00:01\r\u001b[K     |████████████████████████████▋   | 61 kB 29.2 MB/s eta 0:00:01\r\u001b[K     |████████████████████████████████| 68 kB 5.9 MB/s \n",
            "\u001b[?25hCollecting pybind11>=2.2\n",
            "  Using cached pybind11-2.9.1-py2.py3-none-any.whl (211 kB)\n",
            "Requirement already satisfied: setuptools>=0.7.0 in /usr/local/lib/python3.7/dist-packages (from fasttext) (57.4.0)\n",
            "Requirement already satisfied: numpy in /usr/local/lib/python3.7/dist-packages (from fasttext) (1.21.5)\n",
            "Building wheels for collected packages: fasttext\n",
            "  Building wheel for fasttext (setup.py) ... \u001b[?25l\u001b[?25hdone\n",
            "  Created wheel for fasttext: filename=fasttext-0.9.2-cp37-cp37m-linux_x86_64.whl size=3137262 sha256=aa3b50a469c0db253c9cc42c3407ffd23eb2e79b679404c3339374ddb35e40c3\n",
            "  Stored in directory: /root/.cache/pip/wheels/4e/ca/bf/b020d2be95f7641801a6597a29c8f4f19e38f9c02a345bab9b\n",
            "Successfully built fasttext\n",
            "Installing collected packages: pybind11, fasttext\n",
            "Successfully installed fasttext-0.9.2 pybind11-2.9.1\n"
          ]
        }
      ]
    },
    {
      "cell_type": "code",
      "execution_count": null,
      "metadata": {
        "id": "JRjfRIMFCBJP"
      },
      "outputs": [],
      "source": [
        "import pickle\n",
        "import pandas as pd\n",
        "import numpy as np\n",
        "import os, sys\n",
        "import fasttext"
      ]
    },
    {
      "cell_type": "code",
      "source": [
        "workspace = '/content/mnt/Shareddrives/247 Project/'\n",
        "data_workspace = workspace + \"data/\""
      ],
      "metadata": {
        "id": "aswtp5stDBhT"
      },
      "execution_count": null,
      "outputs": []
    },
    {
      "cell_type": "code",
      "source": [
        "# densed_fp = data_workspace + \"2008-08_densed.pkl\"\n",
        "densed_fp = data_workspace + \"2008-08_densed_fixed.pkl\"\n",
        "#densed_fp = data_workspace + \"intermediate_2008-08_raw.pkl\"\n",
        "model_fp = workspace + \"fasttext_64d.bin\"\n",
        "large_model_fp = workspace + \"cc.en.300.bin\""
      ],
      "metadata": {
        "id": "NsrC52U0DLWn"
      },
      "execution_count": null,
      "outputs": []
    },
    {
      "cell_type": "markdown",
      "source": [
        "# Text Embedding"
      ],
      "metadata": {
        "id": "2DsyPh_FD0RG"
      }
    },
    {
      "cell_type": "code",
      "source": [
        "with open(densed_fp, 'rb') as f:\n",
        "  data = pickle.load(f)\n",
        "data"
      ],
      "metadata": {
        "colab": {
          "base_uri": "https://localhost:8080/",
          "height": 423
        },
        "id": "3yyDVpg9Exgo",
        "outputId": "8aa1dcfa-848e-4bc8-f5f8-8a2dff23b48d"
      },
      "execution_count": null,
      "outputs": [
        {
          "output_type": "execute_result",
          "data": {
            "text/html": [
              "\n",
              "  <div id=\"df-67dbbe3f-42ea-4c37-907c-f322f48105a8\">\n",
              "    <div class=\"colab-df-container\">\n",
              "      <div>\n",
              "<style scoped>\n",
              "    .dataframe tbody tr th:only-of-type {\n",
              "        vertical-align: middle;\n",
              "    }\n",
              "\n",
              "    .dataframe tbody tr th {\n",
              "        vertical-align: top;\n",
              "    }\n",
              "\n",
              "    .dataframe thead th {\n",
              "        text-align: right;\n",
              "    }\n",
              "</style>\n",
              "<table border=\"1\" class=\"dataframe\">\n",
              "  <thead>\n",
              "    <tr style=\"text-align: right;\">\n",
              "      <th></th>\n",
              "      <th>Q</th>\n",
              "      <th>skimed_pl</th>\n",
              "    </tr>\n",
              "  </thead>\n",
              "  <tbody>\n",
              "    <tr>\n",
              "      <th>0</th>\n",
              "      <td>0 g trans fats for every extra 2 percent of ca...</td>\n",
              "      <td>[stumbleupon.com, myweb2.search.yahoo.com, fee...</td>\n",
              "    </tr>\n",
              "    <tr>\n",
              "      <th>1</th>\n",
              "      <td>1 0 0 direct rendering yes single head configu...</td>\n",
              "      <td>[abclinuxu.cz, code.google.com, boxee.tv]</td>\n",
              "    </tr>\n",
              "    <tr>\n",
              "      <th>2</th>\n",
              "      <td>1 200 more employees right now than they need ...</td>\n",
              "      <td>[nissannews.com, urbanplanet.org, nashvillecit...</td>\n",
              "    </tr>\n",
              "    <tr>\n",
              "      <th>3</th>\n",
              "      <td>1 200 more employees right now than they need ...</td>\n",
              "      <td>[nissannews.com, urbanplanet.org, nashvillecit...</td>\n",
              "    </tr>\n",
              "    <tr>\n",
              "      <th>4</th>\n",
              "      <td>1 200 more employees right now than they need ...</td>\n",
              "      <td>[nissannews.com, urbanplanet.org, nashvillecit...</td>\n",
              "    </tr>\n",
              "    <tr>\n",
              "      <th>...</th>\n",
              "      <td>...</td>\n",
              "      <td>...</td>\n",
              "    </tr>\n",
              "    <tr>\n",
              "      <th>2687</th>\n",
              "      <td>zarbon's special suprise</td>\n",
              "      <td>[ebay.com, slashfilm.com, jumptags.com, bcamp6...</td>\n",
              "    </tr>\n",
              "    <tr>\n",
              "      <th>2688</th>\n",
              "      <td>zoom zoom zoom engine of the year concept to r...</td>\n",
              "      <td>[yedda.com, addthis.com, articlesbase.com]</td>\n",
              "    </tr>\n",
              "    <tr>\n",
              "      <th>2689</th>\n",
              "      <td>zrozumie e pis jest ostatnia parti z kt r mo n...</td>\n",
              "      <td>[wiadomosci.gazeta.pl, wyborcza.pl, tematy-wia...</td>\n",
              "    </tr>\n",
              "    <tr>\n",
              "      <th>2690</th>\n",
              "      <td>zur kenntnis zu nehmen hubschraubern luftaufkl...</td>\n",
              "      <td>[big-direkt.focus.de, blog.focus.de, p3.focus....</td>\n",
              "    </tr>\n",
              "    <tr>\n",
              "      <th>2691</th>\n",
              "      <td>zwei superstars ganz pers nlich ganz pers nlic...</td>\n",
              "      <td>[blog.focus.de, bigpoint.focus.de, partnersuch...</td>\n",
              "    </tr>\n",
              "  </tbody>\n",
              "</table>\n",
              "<p>2692 rows × 2 columns</p>\n",
              "</div>\n",
              "      <button class=\"colab-df-convert\" onclick=\"convertToInteractive('df-67dbbe3f-42ea-4c37-907c-f322f48105a8')\"\n",
              "              title=\"Convert this dataframe to an interactive table.\"\n",
              "              style=\"display:none;\">\n",
              "        \n",
              "  <svg xmlns=\"http://www.w3.org/2000/svg\" height=\"24px\"viewBox=\"0 0 24 24\"\n",
              "       width=\"24px\">\n",
              "    <path d=\"M0 0h24v24H0V0z\" fill=\"none\"/>\n",
              "    <path d=\"M18.56 5.44l.94 2.06.94-2.06 2.06-.94-2.06-.94-.94-2.06-.94 2.06-2.06.94zm-11 1L8.5 8.5l.94-2.06 2.06-.94-2.06-.94L8.5 2.5l-.94 2.06-2.06.94zm10 10l.94 2.06.94-2.06 2.06-.94-2.06-.94-.94-2.06-.94 2.06-2.06.94z\"/><path d=\"M17.41 7.96l-1.37-1.37c-.4-.4-.92-.59-1.43-.59-.52 0-1.04.2-1.43.59L10.3 9.45l-7.72 7.72c-.78.78-.78 2.05 0 2.83L4 21.41c.39.39.9.59 1.41.59.51 0 1.02-.2 1.41-.59l7.78-7.78 2.81-2.81c.8-.78.8-2.07 0-2.86zM5.41 20L4 18.59l7.72-7.72 1.47 1.35L5.41 20z\"/>\n",
              "  </svg>\n",
              "      </button>\n",
              "      \n",
              "  <style>\n",
              "    .colab-df-container {\n",
              "      display:flex;\n",
              "      flex-wrap:wrap;\n",
              "      gap: 12px;\n",
              "    }\n",
              "\n",
              "    .colab-df-convert {\n",
              "      background-color: #E8F0FE;\n",
              "      border: none;\n",
              "      border-radius: 50%;\n",
              "      cursor: pointer;\n",
              "      display: none;\n",
              "      fill: #1967D2;\n",
              "      height: 32px;\n",
              "      padding: 0 0 0 0;\n",
              "      width: 32px;\n",
              "    }\n",
              "\n",
              "    .colab-df-convert:hover {\n",
              "      background-color: #E2EBFA;\n",
              "      box-shadow: 0px 1px 2px rgba(60, 64, 67, 0.3), 0px 1px 3px 1px rgba(60, 64, 67, 0.15);\n",
              "      fill: #174EA6;\n",
              "    }\n",
              "\n",
              "    [theme=dark] .colab-df-convert {\n",
              "      background-color: #3B4455;\n",
              "      fill: #D2E3FC;\n",
              "    }\n",
              "\n",
              "    [theme=dark] .colab-df-convert:hover {\n",
              "      background-color: #434B5C;\n",
              "      box-shadow: 0px 1px 3px 1px rgba(0, 0, 0, 0.15);\n",
              "      filter: drop-shadow(0px 1px 2px rgba(0, 0, 0, 0.3));\n",
              "      fill: #FFFFFF;\n",
              "    }\n",
              "  </style>\n",
              "\n",
              "      <script>\n",
              "        const buttonEl =\n",
              "          document.querySelector('#df-67dbbe3f-42ea-4c37-907c-f322f48105a8 button.colab-df-convert');\n",
              "        buttonEl.style.display =\n",
              "          google.colab.kernel.accessAllowed ? 'block' : 'none';\n",
              "\n",
              "        async function convertToInteractive(key) {\n",
              "          const element = document.querySelector('#df-67dbbe3f-42ea-4c37-907c-f322f48105a8');\n",
              "          const dataTable =\n",
              "            await google.colab.kernel.invokeFunction('convertToInteractive',\n",
              "                                                     [key], {});\n",
              "          if (!dataTable) return;\n",
              "\n",
              "          const docLinkHtml = 'Like what you see? Visit the ' +\n",
              "            '<a target=\"_blank\" href=https://colab.research.google.com/notebooks/data_table.ipynb>data table notebook</a>'\n",
              "            + ' to learn more about interactive tables.';\n",
              "          element.innerHTML = '';\n",
              "          dataTable['output_type'] = 'display_data';\n",
              "          await google.colab.output.renderOutput(dataTable, element);\n",
              "          const docLink = document.createElement('div');\n",
              "          docLink.innerHTML = docLinkHtml;\n",
              "          element.appendChild(docLink);\n",
              "        }\n",
              "      </script>\n",
              "    </div>\n",
              "  </div>\n",
              "  "
            ],
            "text/plain": [
              "                                                      Q  \\\n",
              "0     0 g trans fats for every extra 2 percent of ca...   \n",
              "1     1 0 0 direct rendering yes single head configu...   \n",
              "2     1 200 more employees right now than they need ...   \n",
              "3     1 200 more employees right now than they need ...   \n",
              "4     1 200 more employees right now than they need ...   \n",
              "...                                                 ...   \n",
              "2687                           zarbon's special suprise   \n",
              "2688  zoom zoom zoom engine of the year concept to r...   \n",
              "2689  zrozumie e pis jest ostatnia parti z kt r mo n...   \n",
              "2690  zur kenntnis zu nehmen hubschraubern luftaufkl...   \n",
              "2691  zwei superstars ganz pers nlich ganz pers nlic...   \n",
              "\n",
              "                                              skimed_pl  \n",
              "0     [stumbleupon.com, myweb2.search.yahoo.com, fee...  \n",
              "1             [abclinuxu.cz, code.google.com, boxee.tv]  \n",
              "2     [nissannews.com, urbanplanet.org, nashvillecit...  \n",
              "3     [nissannews.com, urbanplanet.org, nashvillecit...  \n",
              "4     [nissannews.com, urbanplanet.org, nashvillecit...  \n",
              "...                                                 ...  \n",
              "2687  [ebay.com, slashfilm.com, jumptags.com, bcamp6...  \n",
              "2688         [yedda.com, addthis.com, articlesbase.com]  \n",
              "2689  [wiadomosci.gazeta.pl, wyborcza.pl, tematy-wia...  \n",
              "2690  [big-direkt.focus.de, blog.focus.de, p3.focus....  \n",
              "2691  [blog.focus.de, bigpoint.focus.de, partnersuch...  \n",
              "\n",
              "[2692 rows x 2 columns]"
            ]
          },
          "metadata": {},
          "execution_count": 6
        }
      ]
    },
    {
      "cell_type": "code",
      "source": [
        "#data = data[data['L_domain'].notna()][data['Q'].notna()][data['P_domain'].notna()]"
      ],
      "metadata": {
        "id": "-Zl_brkeqY1s"
      },
      "execution_count": null,
      "outputs": []
    },
    {
      "cell_type": "code",
      "source": [
        "#model = fasttext.load_model(large_model_fp)\n",
        "model = fasttext.load_model(model_fp)\n",
        "print(model.get_dimension())"
      ],
      "metadata": {
        "id": "2Wjc2ZbXD1QR",
        "colab": {
          "base_uri": "https://localhost:8080/"
        },
        "outputId": "d2ec0fc9-ef30-4427-80ba-106804c0ac6b"
      },
      "execution_count": null,
      "outputs": [
        {
          "output_type": "stream",
          "name": "stderr",
          "text": [
            "Warning : `load_model` does not return WordVectorModel or SupervisedModel any more, but a `FastText` object which is very similar.\n"
          ]
        },
        {
          "output_type": "stream",
          "name": "stdout",
          "text": [
            "64\n"
          ]
        }
      ]
    },
    {
      "cell_type": "code",
      "source": [
        "data[\"embedding\"] = [np.array(model.get_word_vector(x)) for x in data[\"Q\"]]\n",
        "data"
      ],
      "metadata": {
        "id": "iJ5j0c7bG1Bo",
        "colab": {
          "base_uri": "https://localhost:8080/",
          "height": 423
        },
        "outputId": "37b85a30-06f4-435b-e468-27fe27c0049f"
      },
      "execution_count": null,
      "outputs": [
        {
          "output_type": "execute_result",
          "data": {
            "text/html": [
              "\n",
              "  <div id=\"df-9bbaa680-5c77-4ae9-adcd-83f2a632d341\">\n",
              "    <div class=\"colab-df-container\">\n",
              "      <div>\n",
              "<style scoped>\n",
              "    .dataframe tbody tr th:only-of-type {\n",
              "        vertical-align: middle;\n",
              "    }\n",
              "\n",
              "    .dataframe tbody tr th {\n",
              "        vertical-align: top;\n",
              "    }\n",
              "\n",
              "    .dataframe thead th {\n",
              "        text-align: right;\n",
              "    }\n",
              "</style>\n",
              "<table border=\"1\" class=\"dataframe\">\n",
              "  <thead>\n",
              "    <tr style=\"text-align: right;\">\n",
              "      <th></th>\n",
              "      <th>Q</th>\n",
              "      <th>skimed_pl</th>\n",
              "      <th>embedding</th>\n",
              "    </tr>\n",
              "  </thead>\n",
              "  <tbody>\n",
              "    <tr>\n",
              "      <th>0</th>\n",
              "      <td>0 g trans fats for every extra 2 percent of ca...</td>\n",
              "      <td>[stumbleupon.com, myweb2.search.yahoo.com, fee...</td>\n",
              "      <td>[-0.0065936125, -0.020537602, 0.03334606, 0.01...</td>\n",
              "    </tr>\n",
              "    <tr>\n",
              "      <th>1</th>\n",
              "      <td>1 0 0 direct rendering yes single head configu...</td>\n",
              "      <td>[abclinuxu.cz, code.google.com, boxee.tv]</td>\n",
              "      <td>[0.0018040149, -0.00087909284, 0.04002679, 0.0...</td>\n",
              "    </tr>\n",
              "    <tr>\n",
              "      <th>2</th>\n",
              "      <td>1 200 more employees right now than they need ...</td>\n",
              "      <td>[nissannews.com, urbanplanet.org, nashvillecit...</td>\n",
              "      <td>[0.006087566, -0.00313511, 0.060455736, 0.0307...</td>\n",
              "    </tr>\n",
              "    <tr>\n",
              "      <th>3</th>\n",
              "      <td>1 200 more employees right now than they need ...</td>\n",
              "      <td>[nissannews.com, urbanplanet.org, nashvillecit...</td>\n",
              "      <td>[-0.024143988, 0.00200849, 0.061202478, 0.0239...</td>\n",
              "    </tr>\n",
              "    <tr>\n",
              "      <th>4</th>\n",
              "      <td>1 200 more employees right now than they need ...</td>\n",
              "      <td>[nissannews.com, urbanplanet.org, nashvillecit...</td>\n",
              "      <td>[-0.03216694, -0.013331371, 0.040685937, 0.019...</td>\n",
              "    </tr>\n",
              "    <tr>\n",
              "      <th>...</th>\n",
              "      <td>...</td>\n",
              "      <td>...</td>\n",
              "      <td>...</td>\n",
              "    </tr>\n",
              "    <tr>\n",
              "      <th>2687</th>\n",
              "      <td>zarbon's special suprise</td>\n",
              "      <td>[ebay.com, slashfilm.com, jumptags.com, bcamp6...</td>\n",
              "      <td>[-0.038111545, 0.008362581, 0.008915218, -0.01...</td>\n",
              "    </tr>\n",
              "    <tr>\n",
              "      <th>2688</th>\n",
              "      <td>zoom zoom zoom engine of the year concept to r...</td>\n",
              "      <td>[yedda.com, addthis.com, articlesbase.com]</td>\n",
              "      <td>[0.001931489, 0.001136252, 0.042400345, 0.0328...</td>\n",
              "    </tr>\n",
              "    <tr>\n",
              "      <th>2689</th>\n",
              "      <td>zrozumie e pis jest ostatnia parti z kt r mo n...</td>\n",
              "      <td>[wiadomosci.gazeta.pl, wyborcza.pl, tematy-wia...</td>\n",
              "      <td>[-0.018571697, -0.026186584, 0.04597183, 0.017...</td>\n",
              "    </tr>\n",
              "    <tr>\n",
              "      <th>2690</th>\n",
              "      <td>zur kenntnis zu nehmen hubschraubern luftaufkl...</td>\n",
              "      <td>[big-direkt.focus.de, blog.focus.de, p3.focus....</td>\n",
              "      <td>[-0.04226517, -0.020830031, 0.038427513, 0.015...</td>\n",
              "    </tr>\n",
              "    <tr>\n",
              "      <th>2691</th>\n",
              "      <td>zwei superstars ganz pers nlich ganz pers nlic...</td>\n",
              "      <td>[blog.focus.de, bigpoint.focus.de, partnersuch...</td>\n",
              "      <td>[-0.017005337, -0.015673624, 0.037364457, 0.02...</td>\n",
              "    </tr>\n",
              "  </tbody>\n",
              "</table>\n",
              "<p>2692 rows × 3 columns</p>\n",
              "</div>\n",
              "      <button class=\"colab-df-convert\" onclick=\"convertToInteractive('df-9bbaa680-5c77-4ae9-adcd-83f2a632d341')\"\n",
              "              title=\"Convert this dataframe to an interactive table.\"\n",
              "              style=\"display:none;\">\n",
              "        \n",
              "  <svg xmlns=\"http://www.w3.org/2000/svg\" height=\"24px\"viewBox=\"0 0 24 24\"\n",
              "       width=\"24px\">\n",
              "    <path d=\"M0 0h24v24H0V0z\" fill=\"none\"/>\n",
              "    <path d=\"M18.56 5.44l.94 2.06.94-2.06 2.06-.94-2.06-.94-.94-2.06-.94 2.06-2.06.94zm-11 1L8.5 8.5l.94-2.06 2.06-.94-2.06-.94L8.5 2.5l-.94 2.06-2.06.94zm10 10l.94 2.06.94-2.06 2.06-.94-2.06-.94-.94-2.06-.94 2.06-2.06.94z\"/><path d=\"M17.41 7.96l-1.37-1.37c-.4-.4-.92-.59-1.43-.59-.52 0-1.04.2-1.43.59L10.3 9.45l-7.72 7.72c-.78.78-.78 2.05 0 2.83L4 21.41c.39.39.9.59 1.41.59.51 0 1.02-.2 1.41-.59l7.78-7.78 2.81-2.81c.8-.78.8-2.07 0-2.86zM5.41 20L4 18.59l7.72-7.72 1.47 1.35L5.41 20z\"/>\n",
              "  </svg>\n",
              "      </button>\n",
              "      \n",
              "  <style>\n",
              "    .colab-df-container {\n",
              "      display:flex;\n",
              "      flex-wrap:wrap;\n",
              "      gap: 12px;\n",
              "    }\n",
              "\n",
              "    .colab-df-convert {\n",
              "      background-color: #E8F0FE;\n",
              "      border: none;\n",
              "      border-radius: 50%;\n",
              "      cursor: pointer;\n",
              "      display: none;\n",
              "      fill: #1967D2;\n",
              "      height: 32px;\n",
              "      padding: 0 0 0 0;\n",
              "      width: 32px;\n",
              "    }\n",
              "\n",
              "    .colab-df-convert:hover {\n",
              "      background-color: #E2EBFA;\n",
              "      box-shadow: 0px 1px 2px rgba(60, 64, 67, 0.3), 0px 1px 3px 1px rgba(60, 64, 67, 0.15);\n",
              "      fill: #174EA6;\n",
              "    }\n",
              "\n",
              "    [theme=dark] .colab-df-convert {\n",
              "      background-color: #3B4455;\n",
              "      fill: #D2E3FC;\n",
              "    }\n",
              "\n",
              "    [theme=dark] .colab-df-convert:hover {\n",
              "      background-color: #434B5C;\n",
              "      box-shadow: 0px 1px 3px 1px rgba(0, 0, 0, 0.15);\n",
              "      filter: drop-shadow(0px 1px 2px rgba(0, 0, 0, 0.3));\n",
              "      fill: #FFFFFF;\n",
              "    }\n",
              "  </style>\n",
              "\n",
              "      <script>\n",
              "        const buttonEl =\n",
              "          document.querySelector('#df-9bbaa680-5c77-4ae9-adcd-83f2a632d341 button.colab-df-convert');\n",
              "        buttonEl.style.display =\n",
              "          google.colab.kernel.accessAllowed ? 'block' : 'none';\n",
              "\n",
              "        async function convertToInteractive(key) {\n",
              "          const element = document.querySelector('#df-9bbaa680-5c77-4ae9-adcd-83f2a632d341');\n",
              "          const dataTable =\n",
              "            await google.colab.kernel.invokeFunction('convertToInteractive',\n",
              "                                                     [key], {});\n",
              "          if (!dataTable) return;\n",
              "\n",
              "          const docLinkHtml = 'Like what you see? Visit the ' +\n",
              "            '<a target=\"_blank\" href=https://colab.research.google.com/notebooks/data_table.ipynb>data table notebook</a>'\n",
              "            + ' to learn more about interactive tables.';\n",
              "          element.innerHTML = '';\n",
              "          dataTable['output_type'] = 'display_data';\n",
              "          await google.colab.output.renderOutput(dataTable, element);\n",
              "          const docLink = document.createElement('div');\n",
              "          docLink.innerHTML = docLinkHtml;\n",
              "          element.appendChild(docLink);\n",
              "        }\n",
              "      </script>\n",
              "    </div>\n",
              "  </div>\n",
              "  "
            ],
            "text/plain": [
              "                                                      Q  \\\n",
              "0     0 g trans fats for every extra 2 percent of ca...   \n",
              "1     1 0 0 direct rendering yes single head configu...   \n",
              "2     1 200 more employees right now than they need ...   \n",
              "3     1 200 more employees right now than they need ...   \n",
              "4     1 200 more employees right now than they need ...   \n",
              "...                                                 ...   \n",
              "2687                           zarbon's special suprise   \n",
              "2688  zoom zoom zoom engine of the year concept to r...   \n",
              "2689  zrozumie e pis jest ostatnia parti z kt r mo n...   \n",
              "2690  zur kenntnis zu nehmen hubschraubern luftaufkl...   \n",
              "2691  zwei superstars ganz pers nlich ganz pers nlic...   \n",
              "\n",
              "                                              skimed_pl  \\\n",
              "0     [stumbleupon.com, myweb2.search.yahoo.com, fee...   \n",
              "1             [abclinuxu.cz, code.google.com, boxee.tv]   \n",
              "2     [nissannews.com, urbanplanet.org, nashvillecit...   \n",
              "3     [nissannews.com, urbanplanet.org, nashvillecit...   \n",
              "4     [nissannews.com, urbanplanet.org, nashvillecit...   \n",
              "...                                                 ...   \n",
              "2687  [ebay.com, slashfilm.com, jumptags.com, bcamp6...   \n",
              "2688         [yedda.com, addthis.com, articlesbase.com]   \n",
              "2689  [wiadomosci.gazeta.pl, wyborcza.pl, tematy-wia...   \n",
              "2690  [big-direkt.focus.de, blog.focus.de, p3.focus....   \n",
              "2691  [blog.focus.de, bigpoint.focus.de, partnersuch...   \n",
              "\n",
              "                                              embedding  \n",
              "0     [-0.0065936125, -0.020537602, 0.03334606, 0.01...  \n",
              "1     [0.0018040149, -0.00087909284, 0.04002679, 0.0...  \n",
              "2     [0.006087566, -0.00313511, 0.060455736, 0.0307...  \n",
              "3     [-0.024143988, 0.00200849, 0.061202478, 0.0239...  \n",
              "4     [-0.03216694, -0.013331371, 0.040685937, 0.019...  \n",
              "...                                                 ...  \n",
              "2687  [-0.038111545, 0.008362581, 0.008915218, -0.01...  \n",
              "2688  [0.001931489, 0.001136252, 0.042400345, 0.0328...  \n",
              "2689  [-0.018571697, -0.026186584, 0.04597183, 0.017...  \n",
              "2690  [-0.04226517, -0.020830031, 0.038427513, 0.015...  \n",
              "2691  [-0.017005337, -0.015673624, 0.037364457, 0.02...  \n",
              "\n",
              "[2692 rows x 3 columns]"
            ]
          },
          "metadata": {},
          "execution_count": 9
        }
      ]
    },
    {
      "cell_type": "markdown",
      "source": [
        "# Clustering"
      ],
      "metadata": {
        "id": "2U_SnilmeZLF"
      }
    },
    {
      "cell_type": "code",
      "source": [
        "from sklearn.manifold import TSNE\n",
        "import matplotlib.pyplot as plt\n",
        "X_embedded = TSNE(n_components=2, learning_rate='auto', init='random').fit_transform(np.vstack(data['embedding']))\n",
        "plt.scatter(X_embedded[:,0], X_embedded[:,1])"
      ],
      "metadata": {
        "id": "2tYOPtFzea24",
        "colab": {
          "base_uri": "https://localhost:8080/",
          "height": 283
        },
        "outputId": "592d80ee-6137-4ffc-c33c-283e7dcc8bf3"
      },
      "execution_count": null,
      "outputs": [
        {
          "output_type": "execute_result",
          "data": {
            "text/plain": [
              "<matplotlib.collections.PathCollection at 0x7f591cb9efd0>"
            ]
          },
          "metadata": {},
          "execution_count": 10
        },
        {
          "output_type": "display_data",
          "data": {
            "image/png": "[encoded data removed]",
            "text/plain": [
              "<Figure size 432x288 with 1 Axes>"
            ]
          },
          "metadata": {
            "needs_background": "light"
          }
        }
      ]
    },
    {
      "cell_type": "code",
      "source": [
        "N_CLUSTERS = 500"
      ],
      "metadata": {
        "id": "TQzjLdzIpMz-"
      },
      "execution_count": null,
      "outputs": []
    },
    {
      "cell_type": "code",
      "source": [
        "from sklearn.cluster import KMeans\n",
        "kmeans = KMeans(n_clusters=N_CLUSTERS, random_state=0).fit(np.vstack(data['embedding']))\n",
        "data['cluster'] = kmeans.labels_\n",
        "data.to_pickle(data_workspace + \"clustered_{}.pkl\".format(N_CLUSTERS))"
      ],
      "metadata": {
        "id": "6FPWv9qan86p"
      },
      "execution_count": null,
      "outputs": []
    },
    {
      "cell_type": "code",
      "source": [
        "centers = pd.DataFrame({\"cluster\": list(range(1, N_CLUSTERS+1))})\n",
        "centers['centers'] = list(kmeans.cluster_centers_)\n",
        "centers.to_pickle(data_workspace + \"cluster_centers_{}.pkl\".format(N_CLUSTERS))"
      ],
      "metadata": {
        "id": "IBDbl5hMtiW6"
      },
      "execution_count": null,
      "outputs": []
    },
    {
      "cell_type": "code",
      "source": [
        "plt.hist(data['cluster'], bins=200)\n",
        "plt.show()"
      ],
      "metadata": {
        "colab": {
          "base_uri": "https://localhost:8080/",
          "height": 265
        },
        "id": "yMpL4Y6FwmMj",
        "outputId": "da5bf555-1025-4a0d-b48a-606223efc254"
      },
      "execution_count": null,
      "outputs": [
        {
          "output_type": "display_data",
          "data": {
            "image/png": "[encoded data removed]",
            "text/plain": [
              "<Figure size 432x288 with 1 Axes>"
            ]
          },
          "metadata": {
            "needs_background": "light"
          }
        }
      ]
    }
  ]
}